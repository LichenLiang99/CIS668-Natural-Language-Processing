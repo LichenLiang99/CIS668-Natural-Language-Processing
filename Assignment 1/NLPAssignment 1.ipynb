{
 "cells": [
  {
   "cell_type": "code",
   "execution_count": 15,
   "id": "pleased-triple",
   "metadata": {},
   "outputs": [],
   "source": [
    "import nltk\n",
    "from nltk import FreqDist\n",
    "import re\n",
    "from nltk.collocations import *\n",
    "from nltk.tokenize import *\n",
    "from nltk.corpus import *"
   ]
  },
  {
   "cell_type": "code",
   "execution_count": 31,
   "id": "intense-planner",
   "metadata": {},
   "outputs": [],
   "source": [
    "#open both files and tokenize them\n",
    "f1=open('state_union_part1.txt')\n",
    "raw1=f1.read()\n",
    "tokens1=word_tokenize(raw1)\n",
    "text1=nltk.Text(tokens1)\n",
    "f1.close()\n",
    "\n",
    "f2=open('state_union_part2.txt')\n",
    "raw2=f2.read()\n",
    "tokens2=word_tokenize(raw2)\n",
    "text2=nltk.Text(tokens2)\n",
    "f2.close()"
   ]
  },
  {
   "cell_type": "code",
   "execution_count": 32,
   "id": "according-conviction",
   "metadata": {},
   "outputs": [],
   "source": [
    "#convert to lower case\n",
    "text1 = [w.lower( ) for w in text1]\n",
    "text2 = [w.lower( ) for w in text2] "
   ]
  },
  {
   "cell_type": "code",
   "execution_count": 33,
   "id": "imperial-glass",
   "metadata": {},
   "outputs": [
    {
     "name": "stdout",
     "output_type": "stream",
     "text": [
      "558110\n",
      "484306\n"
     ]
    }
   ],
   "source": [
    "#check length\n",
    "print(len(text1))\n",
    "print(len(text2))"
   ]
  },
  {
   "cell_type": "code",
   "execution_count": 34,
   "id": "uniform-integration",
   "metadata": {},
   "outputs": [],
   "source": [
    "#filter out punctuations\n",
    "pattern = re.compile('^[^a-z]+$')\n",
    "def alpha_filter(w):\n",
    "    pattern = re.compile('^[^a-z]+$')\n",
    "    if (pattern.match(w)):\n",
    "        return True\n",
    "    else:\n",
    "        return False"
   ]
  },
  {
   "cell_type": "code",
   "execution_count": 35,
   "id": "valid-africa",
   "metadata": {},
   "outputs": [
    {
     "name": "stdout",
     "output_type": "stream",
     "text": [
      "512524\n",
      "430174\n"
     ]
    }
   ],
   "source": [
    "#update text that does not contain punctuations and check new length\n",
    "text1 = [w for w in text1 if not alpha_filter(w)]\n",
    "text2 = [w for w in text2 if not alpha_filter(w)]\n",
    "print(len(text1))\n",
    "print(len(text2))"
   ]
  },
  {
   "cell_type": "code",
   "execution_count": 36,
   "id": "interim-burke",
   "metadata": {},
   "outputs": [
    {
     "name": "stderr",
     "output_type": "stream",
     "text": [
      "[nltk_data] Downloading package stopwords to\n",
      "[nltk_data]     C:\\Users\\owner\\AppData\\Roaming\\nltk_data...\n",
      "[nltk_data]   Package stopwords is already up-to-date!\n"
     ]
    }
   ],
   "source": [
    "#import stopwords and add more stopwords\n",
    "nltk.download('stopwords')\n",
    "nltkstopwords = nltk.corpus.stopwords.words('english')\n",
    "morestopwords = ['could','would','might','must','need','sha','wo','y',\"'s\",\"'d\",\"'ll\",\"'t\",\"'m\",\"'re\",\"'ve\"]\n",
    "stopwords = nltkstopwords + morestopwords"
   ]
  },
  {
   "cell_type": "code",
   "execution_count": 37,
   "id": "precise-mechanism",
   "metadata": {},
   "outputs": [
    {
     "name": "stdout",
     "output_type": "stream",
     "text": [
      "237467\n",
      "220789\n"
     ]
    }
   ],
   "source": [
    "##update text that does not contain stopwords and check new length\n",
    "text1 = [w for w in text1 if not w in stopwords]\n",
    "text2 = [w for w in text2 if not w in stopwords]\n",
    "print(len(text1))\n",
    "print(len(text2))"
   ]
  },
  {
   "cell_type": "code",
   "execution_count": 38,
   "id": "martial-picnic",
   "metadata": {},
   "outputs": [
    {
     "data": {
      "text/plain": [
       "[('states', 2725),\n",
       " ('government', 2220),\n",
       " ('united', 1864),\n",
       " ('may', 1562),\n",
       " ('congress', 1500),\n",
       " ('upon', 1455),\n",
       " ('public', 1375),\n",
       " ('country', 1163),\n",
       " ('great', 1073),\n",
       " ('made', 1061),\n",
       " ('state', 1045),\n",
       " ('last', 911),\n",
       " ('war', 834),\n",
       " ('present', 812),\n",
       " ('time', 808),\n",
       " ('people', 786),\n",
       " ('year', 785),\n",
       " ('power', 744),\n",
       " ('citizens', 723),\n",
       " ('subject', 711),\n",
       " ('shall', 694),\n",
       " ('without', 663),\n",
       " ('union', 643),\n",
       " ('act', 627),\n",
       " ('treaty', 624),\n",
       " ('one', 620),\n",
       " ('part', 618),\n",
       " ('mexico', 605),\n",
       " ('general', 601),\n",
       " ('every', 590),\n",
       " ('treasury', 590),\n",
       " ('necessary', 575),\n",
       " ('constitution', 557),\n",
       " ('new', 548),\n",
       " ('duty', 529),\n",
       " ('foreign', 519),\n",
       " ('two', 510),\n",
       " ('commerce', 506),\n",
       " ('nations', 502),\n",
       " ('peace', 501),\n",
       " ('system', 494),\n",
       " ('laws', 492),\n",
       " ('duties', 488),\n",
       " ('within', 479),\n",
       " ('law', 477),\n",
       " ('us', 463),\n",
       " ('interests', 451),\n",
       " ('interest', 444),\n",
       " ('amount', 443),\n",
       " ('also', 438)]"
      ]
     },
     "execution_count": 38,
     "metadata": {},
     "output_type": "execute_result"
    }
   ],
   "source": [
    "#find most common 50 words in state_union_part1.txt\n",
    "text1dist = FreqDist(text1)\n",
    "t1mc = text1dist.most_common(50)\n",
    "t1mc"
   ]
  },
  {
   "cell_type": "code",
   "execution_count": 39,
   "id": "jewish-cartoon",
   "metadata": {},
   "outputs": [
    {
     "data": {
      "text/plain": [
       "[(('united', 'states'), 0.007672645041205725),\n",
       " (('great', 'britain'), 0.001153844534187908),\n",
       " (('last', 'session'), 0.0010190889681513642),\n",
       " (('public', 'debt'), 0.0007537889475169181),\n",
       " (('state', 'union'), 0.0007285222788850661),\n",
       " (('house', 'representatives'), 0.0006232444929190162),\n",
       " (('fiscal', 'year'), 0.0006064000471644481),\n",
       " (('union', 'address'), 0.0006064000471644481),\n",
       " (('report', 'secretary'), 0.0005853444899712381),\n",
       " (('public', 'lands'), 0.0005474444870234601),\n",
       " (('two', 'countries'), 0.0005137555955143241),\n",
       " (('present', 'year'), 0.00044637781249605207),\n",
       " (('within', 'limits'), 0.00042111114386420007),\n",
       " (('secretary', 'treasury'), 0.00041690003242555806),\n",
       " (('fellow', 'citizens'), 0.0004084778095482741),\n",
       " (('session', 'congress'), 0.0004042666981096321),\n",
       " (('act', 'congress'), 0.00039163336379370605),\n",
       " (('general', 'government'), 0.00039163336379370605),\n",
       " (('year', 'ending'), 0.00039163336379370605),\n",
       " (('british', 'government'), 0.0003874222523550641),\n",
       " (('two', 'governments'), 0.00037478891803913807),\n",
       " (('citizens', 'united'), 0.0003621555837232121),\n",
       " (('federal', 'government'), 0.0003579444722845701),\n",
       " (('secretary', 'war'), 0.00035373336084592807),\n",
       " (('annual', 'message'), 0.00034110002653000204),\n",
       " (('public', 'service'), 0.0003368889150913601),\n",
       " (('senate', 'house'), 0.0003326778036527181),\n",
       " (('consideration', 'congress'), 0.00032425558077543406),\n",
       " (('last', 'annual'), 0.00031583335789815004),\n",
       " (('attention', 'congress'), 0.0003116222464595081),\n",
       " (('government', 'united'), 0.00030741113502086607),\n",
       " (('public', 'money'), 0.00029056668926629803),\n",
       " (('indian', 'tribes'), 0.00027793335495037206),\n",
       " (('mexican', 'government'), 0.00027372224351173005),\n",
       " (('part', 'united'), 0.00027372224351173005),\n",
       " (('treasury', 'notes'), 0.00027372224351173005),\n",
       " (('upon', 'subject'), 0.00026951113207308804),\n",
       " (('commercial', 'intercourse'), 0.000265300020634446),\n",
       " (('several', 'states'), 0.000265300020634446),\n",
       " (('secretary', 'state'), 0.00026108890919580407),\n",
       " (('provision', 'made'), 0.00025687779775716206),\n",
       " (('article', 'treaty'), 0.00024003335200259405),\n",
       " (('claims', 'citizens'), 0.00024003335200259405),\n",
       " (('address', 'december'), 0.00023582224056395204),\n",
       " (('ending', '30th'), 0.00023582224056395204),\n",
       " (('new', 'mexico'), 0.00023582224056395204),\n",
       " (('favorable', 'consideration'), 0.00023161112912531006),\n",
       " (('naval', 'force'), 0.00023161112912531006),\n",
       " (('30th', 'june'), 0.00022740001768666805),\n",
       " (('bank', 'united'), 0.00022740001768666805)]"
      ]
     },
     "execution_count": 39,
     "metadata": {},
     "output_type": "execute_result"
    }
   ],
   "source": [
    "#find most common 50 bigram in state_union_part1.txt by raw frequency\n",
    "bigram_measures = nltk.collocations.BigramAssocMeasures()\n",
    "finder1 = BigramCollocationFinder.from_words(text1)\n",
    "scored1 = finder1.score_ngrams(bigram_measures.raw_freq)\n",
    "scored1[0:50]"
   ]
  },
  {
   "cell_type": "code",
   "execution_count": 40,
   "id": "brutal-conversation",
   "metadata": {},
   "outputs": [
    {
     "data": {
      "text/plain": [
       "[(('bona', 'fide'), 15.535439420385778),\n",
       " (('posse', 'comitatus'), 15.535439420385778),\n",
       " (('punta', 'arenas'), 15.535439420385778),\n",
       " (('ballot', 'box'), 15.272405014551982),\n",
       " (('del', 'norte'), 15.272405014551982),\n",
       " (('millard', 'fillmore'), 15.272405014551982),\n",
       " (('clayton', 'bulwer'), 14.85736751527314),\n",
       " (('guadalupe', 'hidalgo'), 14.687442513830828),\n",
       " (('porto', 'rico'), 14.687442513830828),\n",
       " (('writ', 'mandamus'), 14.594333109439344),\n",
       " (('franklin', 'pierce'), 14.535439420385778),\n",
       " (('la', 'plata'), 14.397935896635842),\n",
       " (('vera', 'cruz'), 14.272405014551982),\n",
       " (('entangling', 'alliances'), 14.202015686660584),\n",
       " (('seminaries', 'learning'), 14.00937060871819),\n",
       " (('gun', 'boats'), 13.880087591773222),\n",
       " (('nucleus', 'around'), 13.85736751527314),\n",
       " (('ruler', 'universe'), 13.85736751527314),\n",
       " (('costa', 'rica'), 13.857367515273136),\n",
       " (('santa', 'anna'), 13.7699046740228),\n",
       " (('santa', 'fe'), 13.7699046740228),\n",
       " (('van', 'buren'), 13.7699046740228),\n",
       " (('project', 'gutenberg'), 13.769904674022799),\n",
       " (('sublime', 'porte'), 13.728084498328172),\n",
       " (('tea', 'coffee'), 13.609440001829554),\n",
       " (('martin', 'van'), 13.599979672580488),\n",
       " (('ad', 'valorem'), 13.535439420385776),\n",
       " (('beacons', 'buoys'), 13.397935896635842),\n",
       " (('water', 'witch'), 13.397935896635842),\n",
       " (('quincy', 'adams'), 13.39793589663584),\n",
       " (('statute', 'book'), 13.333805559216128),\n",
       " (('buenos', 'ayres'), 13.27240501455198),\n",
       " (('indiana', 'illinois'), 13.134901490802047),\n",
       " (('de', 'facto'), 13.12401317465931),\n",
       " (('franking', 'privilege'), 13.10248001310967),\n",
       " (('rocky', 'mountains'), 13.050012593215534),\n",
       " (('andrew', 'jackson'), 12.967550433023561),\n",
       " (('retired', 'list'), 12.9125090694656),\n",
       " (('sooner', 'later'), 12.872474407663347),\n",
       " (('circulating', 'medium'), 12.812973395914685),\n",
       " (('intent', 'meaning'), 12.79435771774734),\n",
       " (('th', 'jefferson'), 12.7699046740228),\n",
       " (('john', 'quincy'), 12.769904674022799),\n",
       " (('precious', 'metals'), 12.71101098496923),\n",
       " (('thomas', 'jefferson'), 12.68244183277246),\n",
       " (('lake', 'erie'), 12.62854882477726),\n",
       " (('almighty', 'god'), 12.599979672580488),\n",
       " (('john', 'tyler'), 12.599979672580488),\n",
       " (('san', 'jacinto'), 12.571965296410891),\n",
       " (('san', 'juan'), 12.571965296410891)]"
      ]
     },
     "execution_count": 40,
     "metadata": {},
     "output_type": "execute_result"
    }
   ],
   "source": [
    "#find most common 50 bigram in state_union_part1.txt by pmi and min frequency = 5\n",
    "finder2 = BigramCollocationFinder.from_words(text1)\n",
    "finder2.apply_freq_filter(5)\n",
    "scored2 = finder2.score_ngrams(bigram_measures.pmi)\n",
    "scored2[:50]"
   ]
  },
  {
   "cell_type": "code",
   "execution_count": 41,
   "id": "disturbed-pharmaceutical",
   "metadata": {},
   "outputs": [
    {
     "data": {
      "text/plain": [
       "[('people', 1506),\n",
       " ('world', 1490),\n",
       " ('new', 1441),\n",
       " ('america', 1271),\n",
       " ('year', 1265),\n",
       " ('congress', 1230),\n",
       " ('us', 1216),\n",
       " ('government', 1111),\n",
       " ('years', 1111),\n",
       " ('american', 950),\n",
       " ('nation', 861),\n",
       " ('one', 804),\n",
       " ('every', 780),\n",
       " ('make', 778),\n",
       " ('work', 754),\n",
       " ('federal', 744),\n",
       " ('time', 741),\n",
       " ('states', 711),\n",
       " ('americans', 688),\n",
       " ('help', 686),\n",
       " ('security', 685),\n",
       " ('war', 674),\n",
       " ('economic', 671),\n",
       " ('peace', 668),\n",
       " ('united', 651),\n",
       " ('nations', 645),\n",
       " ('also', 639),\n",
       " ('program', 638),\n",
       " ('country', 630),\n",
       " ('national', 609),\n",
       " ('economy', 588),\n",
       " ('great', 583),\n",
       " ('last', 572),\n",
       " ('many', 564),\n",
       " ('free', 558),\n",
       " ('first', 553),\n",
       " ('let', 549),\n",
       " ('state', 520),\n",
       " ('tax', 514),\n",
       " ('know', 507),\n",
       " ('million', 507),\n",
       " ('freedom', 503),\n",
       " ('budget', 501),\n",
       " ('health', 489),\n",
       " (\"n't\", 479),\n",
       " ('future', 475),\n",
       " ('system', 463),\n",
       " ('programs', 462),\n",
       " ('tonight', 461),\n",
       " ('union', 460)]"
      ]
     },
     "execution_count": 41,
     "metadata": {},
     "output_type": "execute_result"
    }
   ],
   "source": [
    "#find most common 50 words in state_union_part2.txt\n",
    "text2dist = FreqDist(text2)\n",
    "t2mc = text2dist.most_common(50)\n",
    "t2mc"
   ]
  },
  {
   "cell_type": "code",
   "execution_count": 42,
   "id": "varied-blogger",
   "metadata": {},
   "outputs": [
    {
     "data": {
      "text/plain": [
       "[(('united', 'states'), 0.002092495550050048),\n",
       " (('state', 'union'), 0.001209299376327625),\n",
       " (('american', 'people'), 0.0010824814642033797),\n",
       " (('last', 'year'), 0.0010190725081412571),\n",
       " (('fiscal', 'year'), 0.0008424332733967725),\n",
       " (('federal', 'government'), 0.0008333748511021835),\n",
       " (('social', 'security'), 0.0008243164288075945),\n",
       " (('health', 'care'), 0.0008061995842184167),\n",
       " (('let', 'us'), 0.0007971411619238278),\n",
       " (('years', 'ago'), 0.000733732205861705),\n",
       " (('union', 'address'), 0.0006250311383266376),\n",
       " (('united', 'nations'), 0.0006114435048847543),\n",
       " (('billion', 'dollars'), 0.0005887974491482819),\n",
       " (('million', 'dollars'), 0.0005752098157063984),\n",
       " (('soviet', 'union'), 0.0005661513934118095),\n",
       " (('men', 'women'), 0.0005118008596442758),\n",
       " (('free', 'world'), 0.0004936840150550979),\n",
       " (('ca', \"n't\"), 0.0004619795370240365),\n",
       " (('every', 'american'), 0.0004483919035821531),\n",
       " (('economic', 'growth'), 0.0004257458478456807),\n",
       " (('middle', 'east'), 0.00041215821440379727),\n",
       " (('make', 'sure'), 0.0003985705809619139),\n",
       " (('free', 'nations'), 0.00038498294752003045),\n",
       " (('first', 'time'), 0.0003668661029308525),\n",
       " (('four', 'years'), 0.0003668661029308525),\n",
       " (('state', 'local'), 0.00036233689178355807),\n",
       " (('ask', 'congress'), 0.00035327846948896913),\n",
       " (('members', 'congress'), 0.00034422004719438014),\n",
       " (('armed', 'forces'), 0.0003396908360470857),\n",
       " (('world', 'war'), 0.0003396908360470857),\n",
       " (('next', 'years'), 0.0003351616248997912),\n",
       " (('work', 'together'), 0.0003351616248997912),\n",
       " (('21st', 'century'), 0.0003306324137524967),\n",
       " (('foreign', 'policy'), 0.0003170447803106133),\n",
       " (('mr.', 'speaker'), 0.0003170447803106133),\n",
       " (('new', 'jobs'), 0.0003170447803106133),\n",
       " (('two', 'years'), 0.0003034571468687299),\n",
       " (('vice', 'president'), 0.0003034571468687299),\n",
       " (('around', 'world'), 0.00028986951342684645),\n",
       " (('national', 'security'), 0.00028534030227955195),\n",
       " (('address', 'january'), 0.00027175266883766857),\n",
       " (('human', 'rights'), 0.00026722345769037407),\n",
       " (('health', 'insurance'), 0.0002626942465430796),\n",
       " (('fellow', 'americans'), 0.00025363582424849063),\n",
       " (('fellow', 'citizens'), 0.00025363582424849063),\n",
       " (('past', 'year'), 0.00025363582424849063),\n",
       " (('past', 'years'), 0.00025363582424849063),\n",
       " (('states', 'america'), 0.00025363582424849063),\n",
       " (('civil', 'rights'), 0.0002445774019539017),\n",
       " (('young', 'people'), 0.0002445774019539017)]"
      ]
     },
     "execution_count": 42,
     "metadata": {},
     "output_type": "execute_result"
    }
   ],
   "source": [
    "#find most common 50 bigram in state_union_part2.txt by raw frequency\n",
    "finder3 = BigramCollocationFinder.from_words(text2)\n",
    "scored3 = finder3.score_ngrams(bigram_measures.raw_freq)\n",
    "scored3[0:50]"
   ]
  },
  {
   "cell_type": "code",
   "execution_count": 43,
   "id": "quiet-matthew",
   "metadata": {},
   "outputs": [
    {
     "data": {
      "text/plain": [
       "[(('el', 'salvador'), 15.167346270647108),\n",
       " (('ladies', 'gentlemen'), 15.167346270647108),\n",
       " (('bin', 'laden'), 14.94495384931066),\n",
       " (('saudi', 'arabia'), 14.944953849310657),\n",
       " (('sam', 'rayburn'), 14.752308771368263),\n",
       " (('gerald', 'r.'), 14.529916350031815),\n",
       " (('jimmy', 'carter'), 14.430380676480901),\n",
       " (('endowed', 'creator'), 14.319349364092155),\n",
       " (('vol', 'p.'), 14.292877152730966),\n",
       " (('northern', 'ireland'), 14.167346270647108),\n",
       " ((\"o'neill\", 'jr.'), 14.096956942755707),\n",
       " (('r.', 'ford'), 14.070484731394519),\n",
       " (('lyndon', 'b.'), 14.051869053227172),\n",
       " (('floor', 'appears'), 14.015343177202059),\n",
       " (('iron', 'curtain'), 13.944953849310657),\n",
       " (('grass', 'roots'), 13.904311864813312),\n",
       " (('200th', 'anniversary'), 13.845418175759747),\n",
       " (('william', 'j.'), 13.845418175759747),\n",
       " (('thomas', 'jefferson'), 13.788834647393376),\n",
       " (('red', 'tape'), 13.752308771368265),\n",
       " (('sons', 'daughters'), 13.752308771368263),\n",
       " (('jill', 'biden'), 13.681919443476865),\n",
       " (('b.', 'johnson'), 13.664845930117925),\n",
       " (('barack', 'obama'), 13.664845930117922),\n",
       " (('teen', 'pregnancy'), 13.58238376992595),\n",
       " (('abraham', 'lincoln'), 13.494920928675612),\n",
       " (('mom', 'dad'), 13.459527022140415),\n",
       " (('p.', \"o'neill\"), 13.444880246176016),\n",
       " (('j.', 'clinton'), 13.430380676480903),\n",
       " (('empowerment', 'zones'), 13.359991348589503),\n",
       " (('ronald', 'reagan'), 13.292877152730965),\n",
       " (('synthetic', 'fuels'), 13.278377583035851),\n",
       " (('small-business', 'owner'), 13.26688194419802),\n",
       " (('old-age', 'survivors'), 13.2173869531467),\n",
       " (('greece', 'turkey'), 13.207988255144453),\n",
       " (('elementary', 'secondary'), 13.12586963467095),\n",
       " (('harry', 's.'), 13.089343758645832),\n",
       " (('dwight', 'd.'), 13.029842746897174),\n",
       " (('intercontinental', 'ballistic'), 13.006354393974803),\n",
       " (('h.w', 'bush'), 12.997421269204796),\n",
       " (('w.', 'bush'), 12.997421269204796),\n",
       " (('feeding', 'hungry'), 12.970949057843605),\n",
       " (('small-business', 'owners'), 12.94495384931066),\n",
       " (('thomas', 'p.'), 12.914365529477235),\n",
       " (('river', 'basins'), 12.894327776240692),\n",
       " (('status', 'quo'), 12.89432777624069),\n",
       " (('commander', 'chief'), 12.859223975284776),\n",
       " (('prime', 'minister'), 12.845418175759743),\n",
       " (('nationwide', 'radio'), 12.804776191262398),\n",
       " (('spoke', 'p.m.'), 12.79811246098139)]"
      ]
     },
     "execution_count": 43,
     "metadata": {},
     "output_type": "execute_result"
    }
   ],
   "source": [
    "#find most common 50 bigram in state_union_part2.txt by pmi and min frequency = 5\n",
    "finder4 = BigramCollocationFinder.from_words(text2)\n",
    "finder4.apply_freq_filter(5)\n",
    "scored4 = finder4.score_ngrams(bigram_measures.pmi)\n",
    "scored4[:50]"
   ]
  },
  {
   "cell_type": "code",
   "execution_count": 49,
   "id": "distinguished-stationery",
   "metadata": {},
   "outputs": [
    {
     "ename": "AttributeError",
     "evalue": "'list' object has no attribute 'intersection'",
     "output_type": "error",
     "traceback": [
      "\u001b[1;31m---------------------------------------------------------------------------\u001b[0m",
      "\u001b[1;31mAttributeError\u001b[0m                            Traceback (most recent call last)",
      "\u001b[1;32m<ipython-input-49-1aebfc4c3472>\u001b[0m in \u001b[0;36m<module>\u001b[1;34m\u001b[0m\n\u001b[1;32m----> 1\u001b[1;33m \u001b[0mi\u001b[0m \u001b[1;33m=\u001b[0m \u001b[0mt1mc\u001b[0m\u001b[1;33m.\u001b[0m\u001b[0mintersection\u001b[0m\u001b[1;33m(\u001b[0m\u001b[0mt2mc\u001b[0m\u001b[1;33m)\u001b[0m\u001b[1;33m\u001b[0m\u001b[1;33m\u001b[0m\u001b[0m\n\u001b[0m\u001b[0;32m      2\u001b[0m \u001b[0mi\u001b[0m \u001b[1;33m=\u001b[0m \u001b[0mlist\u001b[0m\u001b[1;33m(\u001b[0m\u001b[0mi\u001b[0m\u001b[1;33m)\u001b[0m\u001b[1;33m\u001b[0m\u001b[1;33m\u001b[0m\u001b[0m\n\u001b[0;32m      3\u001b[0m \u001b[0mi\u001b[0m\u001b[1;33m\u001b[0m\u001b[1;33m\u001b[0m\u001b[0m\n",
      "\u001b[1;31mAttributeError\u001b[0m: 'list' object has no attribute 'intersection'"
     ]
    }
   ],
   "source": [
    "s = set(t1mc)\n"
   ]
  },
  {
   "cell_type": "code",
   "execution_count": null,
   "id": "nonprofit-breakdown",
   "metadata": {},
   "outputs": [],
   "source": []
  },
  {
   "cell_type": "code",
   "execution_count": null,
   "id": "answering-thong",
   "metadata": {},
   "outputs": [],
   "source": []
  },
  {
   "cell_type": "code",
   "execution_count": null,
   "id": "allied-dispute",
   "metadata": {},
   "outputs": [],
   "source": []
  },
  {
   "cell_type": "code",
   "execution_count": null,
   "id": "dutch-bridges",
   "metadata": {},
   "outputs": [],
   "source": []
  },
  {
   "cell_type": "code",
   "execution_count": null,
   "id": "interior-grace",
   "metadata": {},
   "outputs": [],
   "source": []
  },
  {
   "cell_type": "code",
   "execution_count": null,
   "id": "critical-charter",
   "metadata": {},
   "outputs": [],
   "source": []
  }
 ],
 "metadata": {
  "kernelspec": {
   "display_name": "Python 3",
   "language": "python",
   "name": "python3"
  },
  "language_info": {
   "codemirror_mode": {
    "name": "ipython",
    "version": 3
   },
   "file_extension": ".py",
   "mimetype": "text/x-python",
   "name": "python",
   "nbconvert_exporter": "python",
   "pygments_lexer": "ipython3",
   "version": "3.9.0"
  }
 },
 "nbformat": 4,
 "nbformat_minor": 5
}
